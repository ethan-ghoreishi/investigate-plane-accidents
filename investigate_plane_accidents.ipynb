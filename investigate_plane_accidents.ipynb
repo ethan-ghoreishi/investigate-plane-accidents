{
 "cells": [
  {
   "cell_type": "code",
   "execution_count": 1,
   "metadata": {},
   "outputs": [],
   "source": [
    "from collections import defaultdict\n",
    "from datetime import datetime as dt\n",
    "import pandas as pd"
   ]
  },
  {
   "cell_type": "code",
   "execution_count": 2,
   "metadata": {},
   "outputs": [],
   "source": [
    "file = open('AviationData.txt')\n",
    "aviation_data = file.readlines()"
   ]
  },
  {
   "cell_type": "code",
   "execution_count": 3,
   "metadata": {},
   "outputs": [],
   "source": [
    "aviation_list = list()\n",
    "for item in aviation_data:\n",
    "    aviation_item = item.split('|')\n",
    "    aviation_list.append(aviation_item)"
   ]
  },
  {
   "cell_type": "code",
   "execution_count": 4,
   "metadata": {},
   "outputs": [],
   "source": [
    "def search_linear(word):\n",
    "    lax_code = list()\n",
    "    for row in aviation_list:\n",
    "        for c in row:\n",
    "            if c.strip() == word:\n",
    "                lax_code.append(row)\n",
    "                return lax_code"
   ]
  },
  {
   "cell_type": "code",
   "execution_count": 5,
   "metadata": {},
   "outputs": [
    {
     "data": {
      "text/plain": [
       "[['20001218X45447 ',\n",
       "  ' Accident ',\n",
       "  ' LAX94LA336 ',\n",
       "  ' 07/19/1962 ',\n",
       "  ' BRIDGEPORT, CA ',\n",
       "  ' United States ',\n",
       "  '  ',\n",
       "  '  ',\n",
       "  '  ',\n",
       "  '  ',\n",
       "  ' Fatal(4) ',\n",
       "  ' Destroyed ',\n",
       "  '  ',\n",
       "  ' N5069P ',\n",
       "  ' PIPER ',\n",
       "  ' PA24-180 ',\n",
       "  ' No ',\n",
       "  ' 1 ',\n",
       "  ' Reciprocating ',\n",
       "  '  ',\n",
       "  '  ',\n",
       "  ' Personal ',\n",
       "  '  ',\n",
       "  ' 4 ',\n",
       "  ' 0 ',\n",
       "  ' 0 ',\n",
       "  ' 0 ',\n",
       "  ' UNK ',\n",
       "  ' UNKNOWN ',\n",
       "  ' Probable Cause ',\n",
       "  ' 09/19/1996 ',\n",
       "  ' \\n']]"
      ]
     },
     "execution_count": 5,
     "metadata": {},
     "output_type": "execute_result"
    }
   ],
   "source": [
    "search_linear(\"LAX94LA336\")"
   ]
  },
  {
   "cell_type": "code",
   "execution_count": 6,
   "metadata": {},
   "outputs": [],
   "source": [
    "aviation_dict_list = list()\n",
    "# Loop over aviation_list[1:] (row)\n",
    "for row in aviation_list[1:]:\n",
    "    aviation_dict = {}\n",
    "    # Loop over row using enumerator\n",
    "    for idx, value in enumerate(row[:-1]):\n",
    "        # Creat a dictionary using aviation_list[0] as key\n",
    "        aviation_dict[(aviation_list[0][idx]).strip()] = value.strip()\n",
    "    # Append the dictionary to aviation_dict_list\n",
    "    aviation_dict_list.append(aviation_dict)"
   ]
  },
  {
   "cell_type": "code",
   "execution_count": 7,
   "metadata": {},
   "outputs": [],
   "source": [
    "def search_dictionary(word, dictionary_list):\n",
    "    lax_dict = list()\n",
    "    for dictionary in dictionary_list:\n",
    "        for value in dictionary.values():\n",
    "            if value == word:\n",
    "                lax_dict.append(dictionary)\n",
    "                break\n",
    "    return lax_dict"
   ]
  },
  {
   "cell_type": "code",
   "execution_count": 8,
   "metadata": {},
   "outputs": [
    {
     "data": {
      "text/plain": [
       "[{'Accident Number': 'LAX94LA336',\n",
       "  'Air Carrier': '',\n",
       "  'Aircraft Category': '',\n",
       "  'Aircraft Damage': 'Destroyed',\n",
       "  'Airport Code': '',\n",
       "  'Airport Name': '',\n",
       "  'Amateur Built': 'No',\n",
       "  'Broad Phase of Flight': 'UNKNOWN',\n",
       "  'Country': 'United States',\n",
       "  'Engine Type': 'Reciprocating',\n",
       "  'Event Date': '07/19/1962',\n",
       "  'Event Id': '20001218X45447',\n",
       "  'FAR Description': '',\n",
       "  'Injury Severity': 'Fatal(4)',\n",
       "  'Investigation Type': 'Accident',\n",
       "  'Latitude': '',\n",
       "  'Location': 'BRIDGEPORT, CA',\n",
       "  'Longitude': '',\n",
       "  'Make': 'PIPER',\n",
       "  'Model': 'PA24-180',\n",
       "  'Number of Engines': '1',\n",
       "  'Publication Date': '09/19/1996',\n",
       "  'Purpose of Flight': 'Personal',\n",
       "  'Registration Number': 'N5069P',\n",
       "  'Report Status': 'Probable Cause',\n",
       "  'Schedule': '',\n",
       "  'Total Fatal Injuries': '4',\n",
       "  'Total Minor Injuries': '0',\n",
       "  'Total Serious Injuries': '0',\n",
       "  'Total Uninjured': '0',\n",
       "  'Weather Condition': 'UNK'}]"
      ]
     },
     "execution_count": 8,
     "metadata": {},
     "output_type": "execute_result"
    }
   ],
   "source": [
    "search_dictionary(\"LAX94LA336\", aviation_dict_list)"
   ]
  },
  {
   "cell_type": "markdown",
   "metadata": {},
   "source": [
    "## Explore the Data"
   ]
  },
  {
   "cell_type": "markdown",
   "metadata": {},
   "source": [
    "The number of accidents occurred in each U.S. state"
   ]
  },
  {
   "cell_type": "code",
   "execution_count": 9,
   "metadata": {},
   "outputs": [
    {
     "data": {
      "text/plain": [
       "15"
      ]
     },
     "execution_count": 9,
     "metadata": {},
     "output_type": "execute_result"
    }
   ],
   "source": [
    "state_accidents = defaultdict(int)\n",
    "\n",
    "# Using defaultdict\n",
    "for row in aviation_dict_list:\n",
    "    if row[\"Country\"] == \"United States\":\n",
    "        if ',' in row[\"Location\"]:\n",
    "            state = row[\"Location\"].split(',')[1].strip()\n",
    "            state_accidents[state] += 1    \n",
    "state_accidents.pop('', None)\n",
    "\n",
    "## Without using defaultdict\n",
    "# for row in aviation_dict_list:\n",
    "#     if row[\"Country\"] == \"United States\":\n",
    "#         if ',' in row[\"Location\"]:\n",
    "#             state = row[\"Location\"].split(',')[1].strip()\n",
    "#             if state in state_accidents_count:\n",
    "#                state_accidents_count[state] += 1\n",
    "#             else:\n",
    "#                state_accidents_count[state] = 1"
   ]
  },
  {
   "cell_type": "markdown",
   "metadata": {},
   "source": [
    "The states with the highest number of plane accidents are California, Flordia, Texas, Alaska, and Arizona:"
   ]
  },
  {
   "cell_type": "code",
   "execution_count": 10,
   "metadata": {},
   "outputs": [
    {
     "data": {
      "text/plain": [
       "[('CA', 8029), ('FL', 5117), ('TX', 5112), ('AK', 5049), ('AZ', 2502)]"
      ]
     },
     "execution_count": 10,
     "metadata": {},
     "output_type": "execute_result"
    }
   ],
   "source": [
    "sorted(state_accidents.items(), key=lambda x: x[1], reverse=True)[:5]"
   ]
  },
  {
   "cell_type": "markdown",
   "metadata": {},
   "source": [
    "The number of fatalities and serious injuries occurred during each month"
   ]
  },
  {
   "cell_type": "code",
   "execution_count": 11,
   "metadata": {},
   "outputs": [],
   "source": [
    "monthly_injuries = defaultdict(int)\n",
    "# Loop over the aviation_dict_list:\n",
    "for row in aviation_dict_list:\n",
    "    if row[\"Total Fatal Injuries\"] == \"\":\n",
    "        row[\"Total Fatal Injuries\"] = 0\n",
    "    if row[\"Total Serious Injuries\"] == \"\":\n",
    "        row[\"Total Serious Injuries\"] = 0\n",
    "    # Call \"Event Date\" and use strptime to convert the date to datetime\n",
    "    if row[\"Event Date\"]:\n",
    "        date = dt.strptime(row[\"Event Date\"], \"%m/%d/%Y\")\n",
    "        # Change the date format to 'Month Year' to increase readability\n",
    "        date_by = dt.strftime(date, \"%b %Y\")\n",
    "        total_injuries = int(row[\"Total Fatal Injuries\"]) + int(row[\"Total Serious Injuries\"])\n",
    "        monthly_injuries[date_by] += total_injuries"
   ]
  },
  {
   "cell_type": "markdown",
   "metadata": {},
   "source": [
    "The dates with the highest number of fatalities:"
   ]
  },
  {
   "cell_type": "code",
   "execution_count": 12,
   "metadata": {},
   "outputs": [
    {
     "data": {
      "text/plain": [
       "[('Nov 1996', 1022),\n",
       " ('Aug 2005', 560),\n",
       " ('Jun 2009', 471),\n",
       " ('Jul 2014', 469),\n",
       " ('Feb 1996', 423)]"
      ]
     },
     "execution_count": 12,
     "metadata": {},
     "output_type": "execute_result"
    }
   ],
   "source": [
    "sorted(monthly_injuries.items(), key=lambda x: x[1], reverse=True)[:5]"
   ]
  },
  {
   "cell_type": "code",
   "execution_count": 13,
   "metadata": {},
   "outputs": [],
   "source": [
    "air_carrier_accidents = defaultdict(int)\n",
    "\n",
    "# Using defaultdict\n",
    "for row in aviation_dict_list:\n",
    "    if row[\"Air Carrier\"]:\n",
    "        air_carrier_accidents[row[\"Air Carrier\"]] += 1    \n",
    "air_carrier_accidents.pop('', None)"
   ]
  },
  {
   "cell_type": "markdown",
   "metadata": {},
   "source": [
    "The airlines with the highest number of accidents:"
   ]
  },
  {
   "cell_type": "code",
   "execution_count": 14,
   "metadata": {},
   "outputs": [
    {
     "data": {
      "text/plain": [
       "[('UNITED AIRLINES', 49),\n",
       " ('AMERICAN AIRLINES', 41),\n",
       " ('CONTINENTAL AIRLINES', 25),\n",
       " ('USAIR', 24),\n",
       " ('DELTA AIR LINES INC', 23)]"
      ]
     },
     "execution_count": 14,
     "metadata": {},
     "output_type": "execute_result"
    }
   ],
   "source": [
    "sorted(air_carrier_accidents.items(), key=lambda x: x[1], reverse=True)[:5]"
   ]
  },
  {
   "cell_type": "code",
   "execution_count": 15,
   "metadata": {},
   "outputs": [],
   "source": [
    "weather_condition_accidents = defaultdict(int)\n",
    "\n",
    "# Using defaultdict\n",
    "for row in aviation_dict_list:\n",
    "    if row[\"Weather Condition\"]:\n",
    "        weather_condition_accidents[row[\"Weather Condition\"]] += 1    \n",
    "weather_condition_accidents.pop('', None)"
   ]
  },
  {
   "cell_type": "code",
   "execution_count": 17,
   "metadata": {},
   "outputs": [
    {
     "data": {
      "text/html": [
       "<div>\n",
       "<style scoped>\n",
       "    .dataframe tbody tr th:only-of-type {\n",
       "        vertical-align: middle;\n",
       "    }\n",
       "\n",
       "    .dataframe tbody tr th {\n",
       "        vertical-align: top;\n",
       "    }\n",
       "\n",
       "    .dataframe thead th {\n",
       "        text-align: right;\n",
       "    }\n",
       "</style>\n",
       "<table border=\"1\" class=\"dataframe\">\n",
       "  <thead>\n",
       "    <tr style=\"text-align: right;\">\n",
       "      <th></th>\n",
       "      <th>Weather Condition</th>\n",
       "      <th>No Accidents</th>\n",
       "      <th>Accidents %</th>\n",
       "    </tr>\n",
       "  </thead>\n",
       "  <tbody>\n",
       "    <tr>\n",
       "      <th>0</th>\n",
       "      <td>VMC</td>\n",
       "      <td>68799</td>\n",
       "      <td>0.913617</td>\n",
       "    </tr>\n",
       "    <tr>\n",
       "      <th>1</th>\n",
       "      <td>UNK</td>\n",
       "      <td>925</td>\n",
       "      <td>0.012284</td>\n",
       "    </tr>\n",
       "    <tr>\n",
       "      <th>2</th>\n",
       "      <td>IMC</td>\n",
       "      <td>5580</td>\n",
       "      <td>0.074100</td>\n",
       "    </tr>\n",
       "  </tbody>\n",
       "</table>\n",
       "</div>"
      ],
      "text/plain": [
       "  Weather Condition  No Accidents  Accidents %\n",
       "0               VMC         68799     0.913617\n",
       "1               UNK           925     0.012284\n",
       "2               IMC          5580     0.074100"
      ]
     },
     "execution_count": 17,
     "metadata": {},
     "output_type": "execute_result"
    }
   ],
   "source": [
    "accidents_df = pd.DataFrame(list(weather_condition_accidents.items()), columns=[\"Weather Condition\", \"No Accidents\"])\n",
    "accidents_df[\"Accidents %\"] = accidents_df[\"No Accidents\"]/accidents_df[\"No Accidents\"].sum()\n",
    "accidents_df"
   ]
  }
 ],
 "metadata": {
  "kernelspec": {
   "display_name": "Python 3",
   "language": "python",
   "name": "python3"
  },
  "language_info": {
   "codemirror_mode": {
    "name": "ipython",
    "version": 3
   },
   "file_extension": ".py",
   "mimetype": "text/x-python",
   "name": "python",
   "nbconvert_exporter": "python",
   "pygments_lexer": "ipython3",
   "version": "3.5.1"
  }
 },
 "nbformat": 4,
 "nbformat_minor": 2
}
